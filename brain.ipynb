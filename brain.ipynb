{
  "nbformat": 4,
  "nbformat_minor": 0,
  "metadata": {
    "colab": {
      "provenance": [],
      "authorship_tag": "ABX9TyN9lmQcOJ5kISGIgW9LRUMY",
      "include_colab_link": true
    },
    "kernelspec": {
      "name": "python3",
      "display_name": "Python 3"
    },
    "language_info": {
      "name": "python"
    }
  },
  "cells": [
    {
      "cell_type": "markdown",
      "metadata": {
        "id": "view-in-github",
        "colab_type": "text"
      },
      "source": [
        "<a href=\"https://colab.research.google.com/github/yotam-biu/tutorial12/blob/main/brain.ipynb\" target=\"_parent\"><img src=\"https://colab.research.google.com/assets/colab-badge.svg\" alt=\"Open In Colab\"/></a>"
      ]
    },
    {
      "cell_type": "code",
      "execution_count": null,
      "metadata": {
        "id": "DQubCpiEfF8P"
      },
      "outputs": [],
      "source": [
        "!wget https://raw.githubusercontent.com/yotam-biu/tutorial12/main/brain.png -O /content/brain.png"
      ]
    },
    {
      "cell_type": "markdown",
      "source": [
        "\n",
        "\n",
        "## **1. Load the image and convert to NumPy array**\n",
        "1. Use the `PIL` library to load the image file `brain.png`.\n",
        "2. Convert the image into a NumPy array.\n",
        "3. Plot the image using the `matplotlib.pyplot` function `imshow`.\n",
        "\n",
        "---\n"
      ],
      "metadata": {
        "id": "M0J6OmmopTxf"
      }
    },
    {
      "cell_type": "code",
      "source": [
        "from PIL import Image\n",
        "import numpy as np\n",
        "import matplotlib.pyplot as plt\n"
      ],
      "metadata": {
        "id": "YtmsBbSTpkL8"
      },
      "execution_count": null,
      "outputs": []
    },
    {
      "cell_type": "markdown",
      "source": [
        "\n",
        "## **2. Get the shape and dtype of the image**\n",
        "1. Print the shape (dimensions) of the image.\n",
        "2. Print the `dtype` of the image array.\n",
        "\n",
        "---\n",
        "\n"
      ],
      "metadata": {
        "id": "DUfqEzPIpb8j"
      }
    },
    {
      "cell_type": "code",
      "source": [],
      "metadata": {
        "id": "nFVLGD3wrM75"
      },
      "execution_count": null,
      "outputs": []
    },
    {
      "cell_type": "markdown",
      "source": [
        "## **3. Split the image**\n",
        "The `brain.png` image contains two sub-images side-by-side: the left side and the right side.\n",
        "1. Split the image into two separate images: **left image** and **right image**.  \n",
        "   - Notice that the separation occurs in the middle of the image.\n",
        "2. Display the left and right images using `matplotlib`.\n",
        "\n",
        "---\n",
        "\n"
      ],
      "metadata": {
        "id": "t7umZiCOpedM"
      }
    },
    {
      "cell_type": "code",
      "source": [],
      "metadata": {
        "id": "iuY_a1k7rT4a"
      },
      "execution_count": null,
      "outputs": []
    },
    {
      "cell_type": "markdown",
      "source": [
        "## **4. Analyze the right image**\n",
        "1. Plot the **right image** using `plotly` to enable interactivity.\n",
        "2. Use the mouse pointer on the plotly image to identify the intensity value of the tumor (the bright region in the image).\n",
        "\n",
        "---\n",
        "\n"
      ],
      "metadata": {
        "id": "huVXvAuspghi"
      }
    },
    {
      "cell_type": "code",
      "source": [
        "import plotly.express as px\n",
        "import numpy as np\n",
        "\n",
        "px.imshow(right_brain, color_continuous_scale='gray')"
      ],
      "metadata": {
        "id": "ZwRAMW56rr3K"
      },
      "execution_count": null,
      "outputs": []
    },
    {
      "cell_type": "markdown",
      "source": [
        "## **5. Create a binary image**\n",
        "1. Use the intensity value of the tumor found in the previous step.\n",
        "2. Create a binary image that highlights only the tumor by setting pixel values below the tumor intensity to False (or 0) and to the tumor intensity to True (or 1).\n",
        "3. Display the binary image using `matplotlib`.\n",
        "\n",
        "---\n"
      ],
      "metadata": {
        "id": "KRREUk6lpiei"
      }
    },
    {
      "cell_type": "code",
      "source": [],
      "metadata": {
        "id": "w7armiNHsI9A"
      },
      "execution_count": null,
      "outputs": []
    }
  ]
}