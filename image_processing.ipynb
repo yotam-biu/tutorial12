{
  "nbformat": 4,
  "nbformat_minor": 0,
  "metadata": {
    "colab": {
      "provenance": [],
      "collapsed_sections": [
        "2LqLA7pLOg_n",
        "qZJq60EiOuvS",
        "7RoJRsouO_Di",
        "JLZIb8w3RVIX",
        "IFGdgKlxRu9F",
        "pM1BNvgjSGOj",
        "PVWAUWolSfFu",
        "mIcV6fFaTo_W",
        "okSfmOG9UQ5l",
        "9ywEcgMaV-rv"
      ],
      "authorship_tag": "ABX9TyNsQ+JOb0LBAxIMuxH9ceKW",
      "include_colab_link": true
    },
    "kernelspec": {
      "name": "python3",
      "display_name": "Python 3"
    },
    "language_info": {
      "name": "python"
    }
  },
  "cells": [
    {
      "cell_type": "markdown",
      "metadata": {
        "id": "view-in-github",
        "colab_type": "text"
      },
      "source": [
        "<a href=\"https://colab.research.google.com/github/yotam-biu/tutorial12/blob/main/image_processing.ipynb\" target=\"_parent\"><img src=\"https://colab.research.google.com/assets/colab-badge.svg\" alt=\"Open In Colab\"/></a>"
      ]
    },
    {
      "cell_type": "markdown",
      "source": [
        "# **Brain**"
      ],
      "metadata": {
        "id": "2LqLA7pLOg_n"
      }
    },
    {
      "cell_type": "code",
      "source": [
        "!wget https://raw.githubusercontent.com/yotam-biu/tutorial12/main/brain.png -O /content/brain.png"
      ],
      "metadata": {
        "id": "zNIFpVp1OodO"
      },
      "execution_count": null,
      "outputs": []
    },
    {
      "cell_type": "markdown",
      "source": [
        "\n",
        "\n",
        "## **1. Load the image and convert to NumPy array**\n",
        "1. Use the `PIL` library to load the image file `brain.png`.\n",
        "2. Convert the image into a NumPy array.\n",
        "3. Plot the image using the `matplotlib.pyplot` function `imshow`.\n",
        "\n",
        "---\n"
      ],
      "metadata": {
        "id": "M0J6OmmopTxf"
      }
    },
    {
      "cell_type": "code",
      "source": [
        "from PIL import Image\n",
        "import numpy as np\n",
        "import matplotlib.pyplot as plt\n"
      ],
      "metadata": {
        "id": "YtmsBbSTpkL8"
      },
      "execution_count": null,
      "outputs": []
    },
    {
      "cell_type": "markdown",
      "source": [
        "\n",
        "## **2. Get the shape and dtype of the image**\n",
        "1. Print the shape (dimensions) of the image.\n",
        "2. Print the `dtype` of the image array.\n",
        "\n",
        "---\n",
        "\n"
      ],
      "metadata": {
        "id": "DUfqEzPIpb8j"
      }
    },
    {
      "cell_type": "code",
      "source": [],
      "metadata": {
        "id": "nFVLGD3wrM75"
      },
      "execution_count": null,
      "outputs": []
    },
    {
      "cell_type": "markdown",
      "source": [
        "## **3. Split the image**\n",
        "The `brain.png` image contains two sub-images side-by-side: the left side and the right side.\n",
        "1. Split the image into two separate images: **left image** and **right image**.  \n",
        "   - Notice that the separation occurs in the middle of the image.\n",
        "2. Display the left and right images using `matplotlib`.\n",
        "\n",
        "---\n",
        "\n"
      ],
      "metadata": {
        "id": "t7umZiCOpedM"
      }
    },
    {
      "cell_type": "code",
      "source": [],
      "metadata": {
        "id": "iuY_a1k7rT4a"
      },
      "execution_count": null,
      "outputs": []
    },
    {
      "cell_type": "markdown",
      "source": [
        "## **4. Analyze the right image**\n",
        "1. Plot the **right image** using `plotly` to enable interactivity.\n",
        "2. Use the mouse pointer on the plotly image to identify the intensity value of the tumor (the bright region in the image).\n",
        "\n",
        "---\n",
        "\n"
      ],
      "metadata": {
        "id": "huVXvAuspghi"
      }
    },
    {
      "cell_type": "code",
      "source": [
        "import plotly.express as px\n",
        "import numpy as np\n",
        "\n",
        "px.imshow(right_brain, color_continuous_scale='gray')"
      ],
      "metadata": {
        "id": "ZwRAMW56rr3K"
      },
      "execution_count": null,
      "outputs": []
    },
    {
      "cell_type": "markdown",
      "source": [
        "## **5. Create a binary image**\n",
        "1. Use the intensity value of the tumor found in the previous step.\n",
        "2. Create a binary image that highlights only the tumor by setting pixel values below the tumor intensity to False (or 0) and to the tumor intensity to True (or 1).\n",
        "3. Display the binary image using `matplotlib`.\n",
        "\n",
        "---\n"
      ],
      "metadata": {
        "id": "KRREUk6lpiei"
      }
    },
    {
      "cell_type": "code",
      "source": [],
      "metadata": {
        "id": "w7armiNHsI9A"
      },
      "execution_count": null,
      "outputs": []
    },
    {
      "cell_type": "markdown",
      "source": [
        "# **Camera Man**"
      ],
      "metadata": {
        "id": "qZJq60EiOuvS"
      }
    },
    {
      "cell_type": "markdown",
      "source": [
        "## **1. Read the Camera Image from scikit-learn Library**\n",
        "\n",
        "* Load the built-in \"camera-man\" image from the `sklearn.datasets` library.\n",
        "* Display the loaded image using `imshow` from the `matplotlib` library.\n",
        "* Test the shape of the image.\n",
        "* Check the data type (`dtype`) of the image.\n",
        "\n"
      ],
      "metadata": {
        "id": "7RoJRsouO_Di"
      }
    },
    {
      "cell_type": "code",
      "source": [
        "from skimage import data # Libarary with examples of images\n",
        "\n",
        "image_camera = data.camera() # Load example of an image"
      ],
      "metadata": {
        "id": "w23gJSRPOwDa"
      },
      "execution_count": null,
      "outputs": []
    },
    {
      "cell_type": "code",
      "source": [],
      "metadata": {
        "id": "A6eJr0kGQ-ht"
      },
      "execution_count": null,
      "outputs": []
    },
    {
      "cell_type": "code",
      "source": [],
      "metadata": {
        "id": "x66VC4U5RAuv"
      },
      "execution_count": null,
      "outputs": []
    },
    {
      "cell_type": "markdown",
      "source": [
        "## **2. Plot the image histogram**\n",
        "\n",
        "* To create a histogram, which represents the distribution of pixel intensities, we first need to work with a 1D array of pixel values instead of a 2D image.\n",
        "Convert the 2D image into a 1D array using the `flatten()` function, which is a built-in method of NumPy arrays.\n",
        "\n",
        "* Use the 1D array you created earlier as input to the `matplotlib.pyplot.hist` function to generate the histogram plot. This will display the distribution of pixel intensities."
      ],
      "metadata": {
        "id": "JLZIb8w3RVIX"
      }
    },
    {
      "cell_type": "code",
      "source": [],
      "metadata": {
        "id": "6mXzj_6ORNqq"
      },
      "execution_count": null,
      "outputs": []
    },
    {
      "cell_type": "code",
      "source": [],
      "metadata": {
        "id": "bqTnoDW4Rmqi"
      },
      "execution_count": null,
      "outputs": []
    },
    {
      "cell_type": "markdown",
      "source": [
        "## **3. Make a binary plot**\n",
        "\n",
        "Next you will need to split the pixel values into binary values.\n",
        "\n",
        "* Analyze the histogram plot to identify a suitable threshold value, typically corresponding to the valley between two peaks.\n",
        "* Convert the pixel values into binary (True or False) based on whether they are below or above the threshold.\n",
        "* Use `imshow` to visualize the resulting binary image."
      ],
      "metadata": {
        "id": "IFGdgKlxRu9F"
      }
    },
    {
      "cell_type": "code",
      "source": [],
      "metadata": {
        "id": "w-arh6jjR794"
      },
      "execution_count": null,
      "outputs": []
    },
    {
      "cell_type": "code",
      "source": [
        "from skimage.filters import threshold_otsu\n",
        "threshold_otsu(image_camera)"
      ],
      "metadata": {
        "id": "6tbIuXWgR9_G"
      },
      "execution_count": null,
      "outputs": []
    },
    {
      "cell_type": "markdown",
      "source": [
        "# **RGB Image**"
      ],
      "metadata": {
        "id": "pM1BNvgjSGOj"
      }
    },
    {
      "cell_type": "markdown",
      "source": [
        "## **1. Load an RGB Image.**\n",
        "\n",
        "\n",
        "* You can Download the Lena JPG image from the GitHub website, or select any RGB image from your computer.\n",
        "* Display the loaded image using imshow from the matplotlib library.\n",
        "* Test the shape of the image.\n",
        "* Check the data type (dtype) of the image."
      ],
      "metadata": {
        "id": "PVWAUWolSfFu"
      }
    },
    {
      "cell_type": "code",
      "source": [],
      "metadata": {
        "id": "x-u9fm_SSC84"
      },
      "execution_count": null,
      "outputs": []
    },
    {
      "cell_type": "code",
      "source": [],
      "metadata": {
        "id": "cDbXtb2qTOh-"
      },
      "execution_count": null,
      "outputs": []
    },
    {
      "cell_type": "markdown",
      "source": [
        "## **2. Grayscale Image**\n",
        "\n",
        "* Convert the 3-channel color image array into a grayscale image with a single channel by averaging the values of the three color channels for each pixel.\n",
        "You can use the `numpy.mean` function.\n",
        "* Display the loaded image using imshow from the matplotlib library.\n",
        "* Test the shape of the image.\n",
        "* Check the data type (dtype) of the image."
      ],
      "metadata": {
        "id": "mIcV6fFaTo_W"
      }
    },
    {
      "cell_type": "code",
      "source": [],
      "metadata": {
        "id": "ySMuoeQVTWjv"
      },
      "execution_count": null,
      "outputs": []
    },
    {
      "cell_type": "code",
      "source": [],
      "metadata": {
        "id": "GsG5HH7GUMj0"
      },
      "execution_count": null,
      "outputs": []
    },
    {
      "cell_type": "markdown",
      "source": [
        "## **3. Convolve a Filter**\n",
        "\n",
        "* Create a 3x3 filter with the following values:\n",
        "\n",
        "   $$\n",
        "   \\text{filter} =\n",
        "   \\begin{bmatrix}\n",
        "    0 & -1 & 0 \\\\\n",
        "    -1 & 6 & -1 \\\\\n",
        "    0 & -1 & 0\n",
        "   \\end{bmatrix}\n",
        "   $$\n",
        "\n",
        "   Represent this filter as a NumPy array.\n",
        "\n",
        "* Ensure the filter values are normalized such that their sum equals 1.\n",
        "\n",
        "* Use the `convolve2D` function from the `scipy.ndimage` library to apply the filter to the grayscale image.\n",
        "\n",
        "* Display the resulting image to observe the effect of the filter.\n"
      ],
      "metadata": {
        "id": "okSfmOG9UQ5l"
      }
    },
    {
      "cell_type": "code",
      "source": [
        "from scipy.signal import convolve2d\n"
      ],
      "metadata": {
        "id": "MAwEnCgNUPlC"
      },
      "execution_count": null,
      "outputs": []
    },
    {
      "cell_type": "markdown",
      "source": [
        "## **4. Experiment with Additional Filters**\n",
        "\n",
        "Try using the following filters and observe their effects on the image. Each filter serves a different purpose in image processing:\n",
        "\n",
        "### 1. **Edge Detection Filter**  \n",
        "   $$\n",
        "   \\text{filter} =\n",
        "   \\begin{bmatrix}\n",
        "   -1 & -1 & -1 \\\\\n",
        "   -1 &  8 & -1 \\\\\n",
        "   -1 & -1 & -1\n",
        "   \\end{bmatrix}\n",
        "   $$\n",
        "   - **Purpose**: Highlights edges in the image by enhancing regions with high intensity variation.\n",
        "   - **Effect**: Produces an image where the edges are emphasized, and flat areas appear dark.\n",
        "\n",
        "### 2. **Sharpening Filter**  \n",
        "   $$\n",
        "   \\text{filter} =\n",
        "   \\begin{bmatrix}\n",
        "   0 & -1 & 0 \\\\\n",
        "   -1 & 5 & -1 \\\\\n",
        "   0 & -1 & 0\n",
        "   \\end{bmatrix}\n",
        "   $$\n",
        "   - **Purpose**: Increases the contrast of edges and fine details in the image.\n",
        "   - **Effect**: Makes the image appear crisper and more defined.\n",
        "\n",
        "### 3. **Gaussian Blur Filter**  \n",
        "   $$\n",
        "   \\text{filter} =\n",
        "   \\begin{bmatrix}\n",
        "   1 & 2 & 1 \\\\\n",
        "   2 & 4 & 2 \\\\\n",
        "   1 & 2 & 1\n",
        "   \\end{bmatrix}\n",
        "   $$\n",
        "   - **Purpose**: Smoothens the image by reducing noise and detail.\n",
        "   - **Effect**: Produces a softly blurred image, ideal for preprocessing or reducing distractions.\n",
        "\n",
        "### 4. **Box Blur Filter**  \n",
        "   $$\n",
        "   \\text{filter} =\n",
        "   \\begin{bmatrix}\n",
        "   1 & 1 & 1 \\\\\n",
        "   1 & 1 & 1 \\\\\n",
        "   1 & 1 & 1\n",
        "   \\end{bmatrix}\n",
        "   $$\n",
        "   - **Purpose**: Averages neighboring pixel values for a basic smoothing effect.\n",
        "   - **Effect**: Creates a uniform blur across the image.\n",
        "\n",
        "### 5. **Emboss Filter**  \n",
        "   $$\n",
        "   \\text{filter} =\n",
        "   \\begin{bmatrix}\n",
        "   -2 & -1 & 0 \\\\\n",
        "   -1 & 1 & 1 \\\\\n",
        "   0 & 1 & 2\n",
        "   \\end{bmatrix}\n",
        "   $$\n",
        "   - **Purpose**: Simulates a 3D effect by emphasizing the edges with a directional light source.\n",
        "   - **Effect**: Produces an embossed effect, giving the image a sense of depth.\n",
        "\n",
        "### Instructions:\n",
        "- Experiment with each filter by applying it to the grayscale image using the `convolve2D` function.\n",
        "- Observe and describe the visual changes introduced by each filter.\n"
      ],
      "metadata": {
        "id": "9ywEcgMaV-rv"
      }
    },
    {
      "cell_type": "code",
      "source": [],
      "metadata": {
        "id": "f2kXNkClWLuS"
      },
      "execution_count": null,
      "outputs": []
    }
  ]
}