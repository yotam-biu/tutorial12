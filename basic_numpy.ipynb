{
  "cells": [
    {
      "cell_type": "markdown",
      "metadata": {
        "id": "view-in-github",
        "colab_type": "text"
      },
      "source": [
        "<a href=\"https://colab.research.google.com/github/yotam-biu/tutorial12/blob/main/basic_numpy.ipynb\" target=\"_parent\"><img src=\"https://colab.research.google.com/assets/colab-badge.svg\" alt=\"Open In Colab\"/></a>"
      ]
    },
    {
      "cell_type": "code",
      "execution_count": null,
      "id": "fc54a18f",
      "metadata": {
        "id": "fc54a18f"
      },
      "outputs": [],
      "source": [
        "import numpy as np"
      ]
    },
    {
      "cell_type": "markdown",
      "id": "f9feb106",
      "metadata": {
        "id": "f9feb106"
      },
      "source": [
        "## 1. Data Type"
      ]
    },
    {
      "cell_type": "code",
      "execution_count": null,
      "id": "41f350e7",
      "metadata": {
        "id": "41f350e7"
      },
      "outputs": [],
      "source": [
        "arr = np.array([1,127,128])\n",
        "arr, arr.dtype"
      ]
    },
    {
      "cell_type": "code",
      "execution_count": null,
      "id": "96953cae",
      "metadata": {
        "id": "96953cae"
      },
      "outputs": [],
      "source": [
        "arr_uint8 = np.array([1,127,128,255], dtype=np.uint8)\n",
        "arr_uint8"
      ]
    },
    {
      "cell_type": "code",
      "source": [
        "arr_uint8 + 1 # 256 is out of range"
      ],
      "metadata": {
        "id": "QZVEuvDKf6BU"
      },
      "id": "QZVEuvDKf6BU",
      "execution_count": null,
      "outputs": []
    },
    {
      "cell_type": "code",
      "execution_count": null,
      "id": "5cf533ac",
      "metadata": {
        "id": "5cf533ac"
      },
      "outputs": [],
      "source": [
        "arr_float16 = np.array([1,10**3, 10**4], dtype=np.float16)\n",
        "arr_float16 * 10 # 10^5 is out of range"
      ]
    },
    {
      "cell_type": "code",
      "execution_count": null,
      "id": "508ee9fa",
      "metadata": {
        "id": "508ee9fa"
      },
      "outputs": [],
      "source": [
        "arr_float32 = np.array([1,10**4,10**5], dtype=np.float32)\n",
        "arr_float32"
      ]
    },
    {
      "cell_type": "markdown",
      "id": "3276d72e",
      "metadata": {
        "id": "3276d72e"
      },
      "source": [
        "## 2. Creating an Array"
      ]
    },
    {
      "cell_type": "code",
      "execution_count": null,
      "id": "30faf21e",
      "metadata": {
        "id": "30faf21e"
      },
      "outputs": [],
      "source": [
        "range_arr = np.arange(1,20,2)\n",
        "range_arr"
      ]
    },
    {
      "cell_type": "code",
      "execution_count": null,
      "id": "bd6ae30d",
      "metadata": {
        "id": "bd6ae30d"
      },
      "outputs": [],
      "source": [
        "zeros = np.zeros(2)\n",
        "zeros, zeros.dtype"
      ]
    },
    {
      "cell_type": "code",
      "execution_count": null,
      "id": "38d89b44",
      "metadata": {
        "id": "38d89b44"
      },
      "outputs": [],
      "source": [
        "zeros = np.zeros_like(range_arr)\n",
        "zeros, zeros.dtype"
      ]
    },
    {
      "cell_type": "code",
      "source": [
        "mat = np.zeros((3,4))\n",
        "mat"
      ],
      "metadata": {
        "id": "c-cKWxRVghxe"
      },
      "id": "c-cKWxRVghxe",
      "execution_count": null,
      "outputs": []
    },
    {
      "cell_type": "markdown",
      "id": "816b0ca5",
      "metadata": {
        "id": "816b0ca5"
      },
      "source": [
        "## 3. Mathematical Operation"
      ]
    },
    {
      "cell_type": "code",
      "execution_count": null,
      "id": "11b0e51f",
      "metadata": {
        "id": "11b0e51f"
      },
      "outputs": [],
      "source": [
        "range_arr + 1"
      ]
    },
    {
      "cell_type": "code",
      "execution_count": null,
      "id": "b2c65252",
      "metadata": {
        "id": "b2c65252"
      },
      "outputs": [],
      "source": [
        "range_arr + range_arr"
      ]
    },
    {
      "cell_type": "code",
      "execution_count": null,
      "id": "164f3b24",
      "metadata": {
        "id": "164f3b24"
      },
      "outputs": [],
      "source": [
        "range_arr**2"
      ]
    },
    {
      "cell_type": "markdown",
      "id": "87b70c0d",
      "metadata": {
        "id": "87b70c0d"
      },
      "source": [
        "## 4. Change Value in an Array"
      ]
    },
    {
      "cell_type": "code",
      "execution_count": null,
      "id": "bb52817b",
      "metadata": {
        "id": "bb52817b"
      },
      "outputs": [],
      "source": [
        "my_arr = np.array([1,2,3])\n",
        "my_arr[1] = 20\n",
        "my_arr"
      ]
    },
    {
      "cell_type": "code",
      "execution_count": null,
      "id": "af94434e",
      "metadata": {
        "id": "af94434e"
      },
      "outputs": [],
      "source": [
        "my_arr = np.array([1,2,3])\n",
        "my_arr[1:] = [20,30]\n",
        "my_arr"
      ]
    },
    {
      "cell_type": "code",
      "execution_count": null,
      "id": "b09870bc",
      "metadata": {
        "id": "b09870bc"
      },
      "outputs": [],
      "source": [
        "my_arr = np.array([1,2,3])\n",
        "my_arr = 20\n",
        "my_arr"
      ]
    },
    {
      "cell_type": "code",
      "execution_count": null,
      "id": "43432e47",
      "metadata": {
        "id": "43432e47"
      },
      "outputs": [],
      "source": [
        "my_arr = np.array([1,2,3])\n",
        "my_arr[:] = 20\n",
        "my_arr"
      ]
    },
    {
      "cell_type": "code",
      "execution_count": null,
      "id": "21ca646b",
      "metadata": {
        "id": "21ca646b"
      },
      "outputs": [],
      "source": [
        "my_arr = np.array([1,2,3])\n",
        "my_arr[1:] = 20\n",
        "my_arr"
      ]
    },
    {
      "cell_type": "code",
      "execution_count": null,
      "id": "9af375e3",
      "metadata": {
        "id": "9af375e3"
      },
      "outputs": [],
      "source": [
        "range_arr > 10"
      ]
    },
    {
      "cell_type": "code",
      "execution_count": null,
      "id": "6c50571d",
      "metadata": {
        "id": "6c50571d"
      },
      "outputs": [],
      "source": [
        "range_arr[range_arr > 10]"
      ]
    },
    {
      "cell_type": "code",
      "execution_count": null,
      "id": "f18d84fb",
      "metadata": {
        "id": "f18d84fb"
      },
      "outputs": [],
      "source": [
        "range_arr[range_arr > 10] = 100\n",
        "range_arr"
      ]
    },
    {
      "cell_type": "markdown",
      "id": "5b4107cf",
      "metadata": {
        "id": "5b4107cf"
      },
      "source": [
        "## 5. Reduce the array dimension"
      ]
    },
    {
      "cell_type": "code",
      "execution_count": null,
      "id": "9d6d472d",
      "metadata": {
        "id": "9d6d472d"
      },
      "outputs": [],
      "source": [
        "mat = np.array([[1,2,3],[10,20,30],[100,200,300]])\n",
        "np.sum(mat, axis=0)"
      ]
    },
    {
      "cell_type": "code",
      "execution_count": null,
      "id": "96f79a84",
      "metadata": {
        "id": "96f79a84"
      },
      "outputs": [],
      "source": [
        "np.sum(mat, axis=1)"
      ]
    },
    {
      "cell_type": "code",
      "execution_count": null,
      "id": "a17114fa",
      "metadata": {
        "id": "a17114fa"
      },
      "outputs": [],
      "source": [
        "np.mean(mat, axis=1)"
      ]
    }
  ],
  "metadata": {
    "kernelspec": {
      "display_name": "Python 3 (ipykernel)",
      "language": "python",
      "name": "python3"
    },
    "language_info": {
      "codemirror_mode": {
        "name": "ipython",
        "version": 3
      },
      "file_extension": ".py",
      "mimetype": "text/x-python",
      "name": "python",
      "nbconvert_exporter": "python",
      "pygments_lexer": "ipython3",
      "version": "3.9.7"
    },
    "colab": {
      "provenance": [],
      "include_colab_link": true
    }
  },
  "nbformat": 4,
  "nbformat_minor": 5
}